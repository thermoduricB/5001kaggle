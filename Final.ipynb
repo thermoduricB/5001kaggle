{
 "cells": [
  {
   "cell_type": "code",
   "execution_count": null,
   "metadata": {},
   "outputs": [],
   "source": [
    "import pandas as pd\n",
    "import numpy as np\n",
    "import xgboost as xgb\n",
    "from sklearn.model_selection import train_test_split\n",
    "from sklearn.metrics import mean_squared_error\n",
    "from sklearn.metrics import accuracy_score\n",
    "from sklearn.model_selection import cross_val_score, KFold\n",
    "from sklearn.model_selection import cross_val_predict\n",
    "from sklearn.feature_selection import SelectFromModel\n",
    "import random\n",
    "import matplotlib.pyplot as plt\n",
    "from sklearn import preprocessing"
   ]
  },
  {
   "cell_type": "code",
   "execution_count": 141,
   "metadata": {},
   "outputs": [
    {
     "name": "stderr",
     "output_type": "stream",
     "text": [
      "/anaconda3/lib/python3.6/site-packages/h5py/__init__.py:36: FutureWarning: Conversion of the second argument of issubdtype from `float` to `np.floating` is deprecated. In future, it will be treated as `np.float64 == np.dtype(float).type`.\n",
      "  from ._conv import register_converters as _register_converters\n",
      "Using TensorFlow backend.\n"
     ]
    }
   ],
   "source": [
    "import keras as K\n",
    "from keras.models import Sequential\n",
    "from keras.layers import Dense,Dropout,Activation\n",
    "from keras.callbacks import EarlyStopping\n",
    "from keras.constraints import non_neg\n",
    "from keras.optimizers import SGD"
   ]
  },
  {
   "cell_type": "code",
   "execution_count": 79,
   "metadata": {},
   "outputs": [],
   "source": [
    "trainF = pd.read_csv('./data/train.csv')\n",
    "trainF2 = pd.read_csv('./data/train_2.csv')\n",
    "predF = pd.read_csv('./data/test.csv')"
   ]
  },
  {
   "cell_type": "code",
   "execution_count": 80,
   "metadata": {},
   "outputs": [],
   "source": [
    "trainF['L1']=0\n",
    "trainF['L2']=0\n",
    "\n",
    "for i in range(trainF.shape[0]):\n",
    "    penalty = trainF['penalty'].values[i]\n",
    "    l1_ratio = trainF['l1_ratio'].values[i]\n",
    "    if type(penalty) == int:\n",
    "        continue\n",
    "    elif 'elasticnet' in penalty:\n",
    "        trainF.loc[i,['L1']]=l1_ratio\n",
    "        trainF.loc[i,['L2']]=1-l1_ratio\n",
    "    elif 'l1' in penalty:\n",
    "        trainF.loc[i,['L1']]=1\n",
    "    elif 'l2' in penalty:\n",
    "        trainF.loc[i,['L2']]=1"
   ]
  },
  {
   "cell_type": "code",
   "execution_count": 81,
   "metadata": {},
   "outputs": [],
   "source": [
    "trainF2['L1']=0\n",
    "trainF2['L2']=0\n",
    "\n",
    "for i in range(trainF2.shape[0]):\n",
    "    penalty = trainF2['penalty'].values[i]\n",
    "    l1_ratio = trainF2['l1_ratio'].values[i]\n",
    "    if type(penalty) == int:\n",
    "        continue\n",
    "    elif 'elasticnet' in penalty:\n",
    "        trainF2.loc[i,['L1']]=l1_ratio\n",
    "        trainF2.loc[i,['L2']]=1-l1_ratio\n",
    "    elif 'l1' in penalty:\n",
    "        trainF2.loc[i,['L1']]=1\n",
    "    elif 'l2' in penalty:\n",
    "        trainF2.loc[i,['L2']]=1"
   ]
  },
  {
   "cell_type": "code",
   "execution_count": 82,
   "metadata": {},
   "outputs": [],
   "source": [
    "predF['L1']=0\n",
    "predF['L2']=0\n",
    "\n",
    "for i in range(predF.shape[0]):\n",
    "    penalty = predF['penalty'].values[i]\n",
    "    l1_ratio = predF['l1_ratio'].values[i]\n",
    "    if type(penalty) == int:\n",
    "        continue\n",
    "    elif 'elasticnet' in penalty:\n",
    "        predF.loc[i,['L1']]=l1_ratio\n",
    "        predF.loc[i,['L2']]=1-l1_ratio\n",
    "    elif 'l1' in penalty:\n",
    "        predF.loc[i,['L1']]=1\n",
    "    elif 'l2' in penalty:\n",
    "        predF.loc[i,['L2']]=1"
   ]
  },
  {
   "cell_type": "code",
   "execution_count": 83,
   "metadata": {},
   "outputs": [
    {
     "name": "stderr",
     "output_type": "stream",
     "text": [
      "/anaconda3/lib/python3.6/site-packages/ipykernel_launcher.py:1: FutureWarning: Sorting because non-concatenation axis is not aligned. A future version\n",
      "of pandas will change to not sort by default.\n",
      "\n",
      "To accept the future behavior, pass 'sort=True'.\n",
      "\n",
      "To retain the current behavior and silence the warning, pass sort=False\n",
      "\n",
      "  \"\"\"Entry point for launching an IPython kernel.\n"
     ]
    }
   ],
   "source": [
    "trainF = pd.concat([trainF, trainF2], axis=0)"
   ]
  },
  {
   "cell_type": "code",
   "execution_count": 84,
   "metadata": {},
   "outputs": [
    {
     "name": "stderr",
     "output_type": "stream",
     "text": [
      "/anaconda3/lib/python3.6/site-packages/ipykernel_launcher.py:1: FutureWarning: Sorting because non-concatenation axis is not aligned. A future version\n",
      "of pandas will change to not sort by default.\n",
      "\n",
      "To accept the future behavior, pass 'sort=True'.\n",
      "\n",
      "To retain the current behavior and silence the warning, pass sort=False\n",
      "\n",
      "  \"\"\"Entry point for launching an IPython kernel.\n"
     ]
    }
   ],
   "source": [
    "data = pd.concat([trainF, predF], axis=0)\n",
    "trainlen = len(trainF)\n",
    "predlen = len(predF)"
   ]
  },
  {
   "cell_type": "code",
   "execution_count": 85,
   "metadata": {},
   "outputs": [],
   "source": [
    "data.loc[:, ['penalty']] = np.array(pd.Series(data['penalty'].values).replace('elasticnet', 2)).reshape(-1,1)\n",
    "data.loc[:, ['penalty']] = np.array(pd.Series(data['penalty'].values).replace('none', 0)).reshape(-1,1)\n",
    "data.loc[:, ['penalty']] = np.array(pd.Series(data['penalty'].values).replace('l1', 1)).reshape(-1,1)\n",
    "data.loc[:, ['penalty']] = np.array(pd.Series(data['penalty'].values).replace('l2', 3)).reshape(-1,1)\n",
    "\n",
    "data.loc[:, ['n_jobs']] = np.array(pd.Series(data['n_jobs'].values).replace(-1, 16)).reshape(-1,1)"
   ]
  },
  {
   "cell_type": "code",
   "execution_count": 86,
   "metadata": {},
   "outputs": [],
   "source": [
    "data.drop(['random_state'],1, inplace=True)\n",
    "data.drop(['id'],1, inplace=True)"
   ]
  },
  {
   "cell_type": "code",
   "execution_count": 77,
   "metadata": {},
   "outputs": [],
   "source": [
    "# data.iloc[:trainlen,:].corr()"
   ]
  },
  {
   "cell_type": "code",
   "execution_count": 88,
   "metadata": {},
   "outputs": [],
   "source": [
    "# data"
   ]
  },
  {
   "cell_type": "code",
   "execution_count": 89,
   "metadata": {},
   "outputs": [],
   "source": [
    "data_normalized = preprocessing.normalize(data.iloc[:,:-1], norm='l2')\n",
    "min_max_scaler = preprocessing.MinMaxScaler()\n",
    "data_mm_scal = min_max_scaler.fit_transform(data_normalized)\n",
    "\n",
    "# data['flip_y_normmm']=data_mm_scal[:,3]#data_mm_scal[:,1]\n",
    "data['l1_ratio_normmm']=data_mm_scal[:,4]\n",
    "# data['n_classes_normmm']=data_mm_scal[:,6]#data_mm_scal[:,4]\n",
    "# data['n_clusters_per_class_normmm']=data_mm_scal[:,8]#data_mm_scal[:,5]\n",
    "data['n_informative_normmm']=data_mm_scal[:,9]#data_mm_scal[:,7]\n",
    "data['n_jobs_normmm']=data_mm_scal[:,10]#data_mm_scal[:,8]\n",
    "# data['penalty_normmm']=data_mm_scal[:,12]#data_mm_scal[:,10]\n",
    "data['scale_normm']=data_mm_scal[:,14]#data_mm_scal[:,11]"
   ]
  },
  {
   "cell_type": "code",
   "execution_count": 90,
   "metadata": {},
   "outputs": [],
   "source": [
    "# from matplotlib import pyplot as plt\n",
    "\n",
    "# for f in data.columns.values:\n",
    "#     print(f)\n",
    "#     X = data[f].values[:trainlen]\n",
    "#     y = trainL\n",
    "#     plt.scatter(X,y)\n",
    "#     plt.savefig(f+\"_norm + mm_scal\"+\".jpg\")\n",
    "#     plt.show()"
   ]
  },
  {
   "cell_type": "code",
   "execution_count": 144,
   "metadata": {},
   "outputs": [],
   "source": [
    "def OneHotEnc(data, features_cate, generate):\n",
    "#     dataset = pd.concat([data[features_all], data[generate]], axis=1)\n",
    "    dataset = pd.concat([data, data[generate]], axis=1)\n",
    "    \n",
    "    for feature in features_cate+generate:\n",
    "        df = pd.get_dummies(data[feature], prefix=feature)\n",
    "        dataset = pd.concat([dataset, df], axis=1)\n",
    "        \n",
    "    return dataset\n",
    "\n",
    "dataset = OneHotEnc(data, ['penalty'], []) #'alpha'\n",
    "\n",
    "# dataset = pd.DataFrame()\n",
    "# dataset = data.iloc[:,:]"
   ]
  },
  {
   "cell_type": "code",
   "execution_count": 304,
   "metadata": {},
   "outputs": [],
   "source": [
    "# temp = dataset.iloc[400:440, :]\n",
    "\n",
    "# temp.corr()['time']\n",
    "\n",
    "# explore_col = ['L1', 'L2', 'alpha', 'flip_y', 'max_iter', 'n_classes',\n",
    "#        'n_clusters_per_class', 'n_features', 'n_informative', 'n_jobs',\n",
    "#        'n_samples', 'penalty', 'scale', 'l1_ratio_normmm',\n",
    "#        'n_informative_normmm', 'n_jobs_normmm', 'scale_normm',\n",
    "#        'penalty_0', 'penalty_1', 'penalty_2', 'penalty_3']\n",
    "\n",
    "# factor_2 = []\n",
    "\n",
    "# newf_num = 1\n",
    "\n",
    "# for f1 in explore_col:\n",
    "#     for f2 in explore_col[explore_col.index(f1):]:\n",
    "        \n",
    "#         temp['cf'+str(newf_num)] = temp[f1]*temp[f2]\n",
    "#         pearson = temp.corr()['time']['cf'+str(newf_num)]\n",
    "#         if pearson > 0.4:\n",
    "#             factor_2.append(['cf'+str(newf_num),f1,f2,pearson])\n",
    "#             newf_num += 1\n",
    "#             print(f1,'*',f2,':',pearson)\n",
    "#         else:\n",
    "#             temp.drop('cf'+str(newf_num),1,inplace=True)\n",
    "\n",
    "# print(factor_2)"
   ]
  },
  {
   "cell_type": "code",
   "execution_count": 145,
   "metadata": {},
   "outputs": [],
   "source": [
    "dataset['cf8']=data['max_iter']*dataset['n_samples']\n",
    "dataset['cf9']=data['max_iter']*dataset['penalty_2']\n",
    "dataset['cf11']=data['n_classes']*dataset['penalty_2']\n",
    "dataset['cf12']=data['n_informative']*dataset['penalty_2']\n",
    "dataset['cf16']=data['n_samples']*dataset['penalty_2']"
   ]
  },
  {
   "cell_type": "code",
   "execution_count": 94,
   "metadata": {},
   "outputs": [],
   "source": [
    "# dataset.iloc[:440,:].corr()['time']"
   ]
  },
  {
   "cell_type": "markdown",
   "metadata": {},
   "source": [
    "Record:<p>\n",
    "[['cf1', 'L1', 'L2', 0.4454852138309251], ['cf2', 'L2', 'penalty_2', 0.4703546077393542], ['cf3', 'alpha', 'n_samples', 0.4566856545656562], ['cf4', 'alpha', 'penalty_2', 0.5334197498449157], ['cf5', 'flip_y', 'n_samples', 0.4009361530828913], ['cf6', 'flip_y', 'penalty_2', 0.6040425184400429], ['cf7', 'max_iter', 'n_classes', 0.484374989718596], ['cf8', 'max_iter', 'n_samples', 0.6222014199034712], ['cf9', 'max_iter', 'penalty_2', 0.5683625312020067], ['cf10', 'n_classes', 'n_samples', 0.4277177967509479], ['cf11', 'n_classes', 'penalty_2', 0.6229716447297312], ['cf12', 'n_features', 'penalty_2', 0.4014408065457138], ['cf13', 'n_informative', 'n_samples', 0.48367061753557655], ['cf14', 'n_informative', 'penalty_2', 0.5169822963572361], ['cf15', 'n_samples', 'n_samples', 0.4136628567243141], ['cf16', 'n_samples', 'penalty_2', 0.6759662894171211], ['cf17', 'penalty', 'penalty_2', 0.4327137523259015], ['cf18', 'scale', 'penalty_2', 0.5077675768883818], ['cf19', 'scale_normm', 'penalty_2', 0.4264815070143489], ['cf20', 'penalty_2', 'penalty_2', 0.4327137523259015]]\n"
   ]
  },
  {
   "cell_type": "code",
   "execution_count": 95,
   "metadata": {},
   "outputs": [],
   "source": [
    "# factor_d = []\n",
    "\n",
    "# newf_num = 21\n",
    "\n",
    "# for f1 in explore_col+['cf8','cf9','cf11','cf12','cf16']:\n",
    "        \n",
    "#         temp['cf'+str(newf_num)] = temp[f1]/(np.log2(temp['n_jobs'])+1)\n",
    "#         pearson = temp.corr()['time']['cf'+str(newf_num)]\n",
    "#         if pearson > 0.4:\n",
    "#             factor_d.append(['cf'+str(newf_num),f1,pearson])\n",
    "#             newf_num += 1\n",
    "#             print(f1,':',pearson)\n",
    "#         else:\n",
    "#             temp.drop('cf'+str(newf_num),1,inplace=True)\n",
    "\n",
    "# print(factor_d)"
   ]
  },
  {
   "cell_type": "code",
   "execution_count": 146,
   "metadata": {},
   "outputs": [],
   "source": [
    "dataset['cf22']=data['flip_y']/(data['n_jobs'])#/(np.log2(data['n_jobs'])+1)\n",
    "dataset['cf23']=data['max_iter']/(np.log2(data['n_jobs'])+1)\n",
    "dataset['cf24']=data['n_classes']/(data['n_jobs'])#/(np.log2(data['n_jobs'])+1)\n",
    "dataset['cf25']=data['n_informative']/(data['n_jobs'])#/(np.log2(data['n_jobs'])+1)\n",
    "dataset['cf26']=data['n_samples']/(np.log2(data['n_jobs'])+1)\n",
    "dataset['cf28']=dataset['penalty_2']/(data['n_jobs'])#/(np.log2(data['n_jobs'])+1)\n",
    "dataset['cf29']=dataset['cf8']/(np.log2(data['n_jobs'])+1)\n",
    "dataset['cf30']=dataset['cf9']/(data['n_jobs'])#/(np.log2(data['n_jobs'])+1)\n",
    "dataset['cf31']=dataset['cf11']/(data['n_jobs'])#/(np.log2(data['n_jobs'])+1)\n",
    "dataset['cf32']=dataset['cf12']/(data['n_jobs'])#/(np.log2(data['n_jobs'])+1)\n",
    "dataset['cf33']=dataset['cf16']/(data['n_jobs'])#/(np.log2(data['n_jobs'])+1)"
   ]
  },
  {
   "cell_type": "code",
   "execution_count": 99,
   "metadata": {},
   "outputs": [],
   "source": [
    "# dataset.iloc[:,:].corr()['time']"
   ]
  },
  {
   "cell_type": "markdown",
   "metadata": {},
   "source": []
  },
  {
   "cell_type": "code",
   "execution_count": 100,
   "metadata": {},
   "outputs": [],
   "source": [
    "# factor_3 = []\n",
    "\n",
    "# newf_num = 34\n",
    "\n",
    "# for f1 in ['cf8','cf9','cf11','cf12','cf16']:\n",
    "#      for f2 in ['max_iter','n_classes','penalty_2','n_informative','n_samples']:\n",
    "#         temp['cf'+str(newf_num)] = temp[f1]*temp[f2]\n",
    "#         pearson = temp.corr()['time']['cf'+str(newf_num)]\n",
    "#         if pearson > 0.4:\n",
    "#             factor_3.append(['cf'+str(newf_num),f1,f2,pearson])\n",
    "#             newf_num += 1\n",
    "#             print(f1,'*',f2,':',pearson)\n",
    "#         else:\n",
    "#             temp.drop('cf'+str(newf_num),1,inplace=True)\n",
    "\n",
    "# print(factor_3)"
   ]
  },
  {
   "cell_type": "markdown",
   "metadata": {},
   "source": [
    "Record:<p>\n",
    " ['cf8', 'max_iter', 'n_samples', 0.6222014199034712], <p>\n",
    "    ['cf9', 'max_iter', 'penalty_2', 0.5683625312020067], <p>\n",
    "            ['cf11', 'n_classes', 'penalty_2', 0.6229716447297312], <p>\n",
    "                ['cf12', 'n_features', 'penalty_2', 0.4014408065457138], <p>\n",
    "                    \n",
    "['cf16', 'n_samples', 'penalty_2', 0.6759662894171211],"
   ]
  },
  {
   "cell_type": "code",
   "execution_count": 147,
   "metadata": {},
   "outputs": [],
   "source": [
    "dataset['cf35']=dataset['cf8']*data['n_classes']\n",
    "dataset['cf37']=dataset['cf8']*data['n_informative']\n",
    "\n",
    "dataset['cf40']=dataset['cf9']*data['n_classes']\n",
    "dataset['cf41']=dataset['cf9']*data['n_informative']\n",
    "\n",
    "dataset['cf45']=dataset['cf11']*data['n_informative']\n",
    "dataset['cf46']=dataset['cf11']*data['n_samples']\n",
    "dataset['cf47']=dataset['cf12']*data['max_iter']\n",
    "dataset['cf48']=dataset['cf12']*data['n_classes']\n",
    "\n",
    "dataset['cf51']=dataset['cf12']*data['n_samples']\n",
    "dataset['cf54']=dataset['cf16']*data['n_informative']\n",
    "dataset['cf55']=dataset['cf16']*data['n_samples']"
   ]
  },
  {
   "cell_type": "code",
   "execution_count": 138,
   "metadata": {},
   "outputs": [],
   "source": [
    "# dataset.iloc[:,:].corr()['time']"
   ]
  },
  {
   "cell_type": "code",
   "execution_count": 148,
   "metadata": {},
   "outputs": [],
   "source": [
    "#构造特征只保留0.4以上的\n",
    "dataset.drop(['cf9','cf11','cf12','cf16','cf25','cf40','cf41','cf45','cf47','cf48','cf55'],1,inplace=True)"
   ]
  },
  {
   "cell_type": "code",
   "execution_count": 149,
   "metadata": {},
   "outputs": [],
   "source": [
    "dataset.drop(['L2', 'l1_ratio', 'alpha', 'flip_y', 'n_clusters_per_class', 'scale', 'penalty'],1, inplace=True)"
   ]
  },
  {
   "cell_type": "code",
   "execution_count": 131,
   "metadata": {},
   "outputs": [],
   "source": []
  },
  {
   "cell_type": "code",
   "execution_count": 150,
   "metadata": {},
   "outputs": [
    {
     "data": {
      "text/plain": [
       "Index(['L1', 'max_iter', 'n_classes', 'n_features', 'n_informative', 'n_jobs',\n",
       "       'n_samples', 'random_state', 'time', 'l1_ratio_normmm',\n",
       "       'n_informative_normmm', 'n_jobs_normmm', 'scale_normm', 'penalty_0',\n",
       "       'penalty_1', 'penalty_2', 'penalty_3', 'cf8', 'cf22', 'cf23', 'cf24',\n",
       "       'cf26', 'cf28', 'cf29', 'cf30', 'cf31', 'cf32', 'cf33', 'cf35', 'cf37',\n",
       "       'cf46', 'cf51', 'cf54'],\n",
       "      dtype='object')"
      ]
     },
     "execution_count": 150,
     "metadata": {},
     "output_type": "execute_result"
    }
   ],
   "source": [
    "dataset.columns"
   ]
  },
  {
   "cell_type": "code",
   "execution_count": 151,
   "metadata": {},
   "outputs": [
    {
     "data": {
      "text/html": [
       "<div>\n",
       "<style scoped>\n",
       "    .dataframe tbody tr th:only-of-type {\n",
       "        vertical-align: middle;\n",
       "    }\n",
       "\n",
       "    .dataframe tbody tr th {\n",
       "        vertical-align: top;\n",
       "    }\n",
       "\n",
       "    .dataframe thead th {\n",
       "        text-align: right;\n",
       "    }\n",
       "</style>\n",
       "<table border=\"1\" class=\"dataframe\">\n",
       "  <thead>\n",
       "    <tr style=\"text-align: right;\">\n",
       "      <th></th>\n",
       "      <th>L1</th>\n",
       "      <th>max_iter</th>\n",
       "      <th>n_classes</th>\n",
       "      <th>n_features</th>\n",
       "      <th>n_informative</th>\n",
       "      <th>n_jobs</th>\n",
       "      <th>n_samples</th>\n",
       "      <th>random_state</th>\n",
       "      <th>time</th>\n",
       "      <th>l1_ratio_normmm</th>\n",
       "      <th>...</th>\n",
       "      <th>cf29</th>\n",
       "      <th>cf30</th>\n",
       "      <th>cf31</th>\n",
       "      <th>cf32</th>\n",
       "      <th>cf33</th>\n",
       "      <th>cf35</th>\n",
       "      <th>cf37</th>\n",
       "      <th>cf46</th>\n",
       "      <th>cf51</th>\n",
       "      <th>cf54</th>\n",
       "    </tr>\n",
       "  </thead>\n",
       "  <tbody>\n",
       "    <tr>\n",
       "      <th>0</th>\n",
       "      <td>0.000000</td>\n",
       "      <td>417</td>\n",
       "      <td>4</td>\n",
       "      <td>327</td>\n",
       "      <td>7</td>\n",
       "      <td>16</td>\n",
       "      <td>1089</td>\n",
       "      <td>475</td>\n",
       "      <td>0.409987</td>\n",
       "      <td>0.066057</td>\n",
       "      <td>...</td>\n",
       "      <td>90822.600000</td>\n",
       "      <td>0.0</td>\n",
       "      <td>0.0</td>\n",
       "      <td>0.0</td>\n",
       "      <td>0.0</td>\n",
       "      <td>1816452</td>\n",
       "      <td>3178791</td>\n",
       "      <td>0</td>\n",
       "      <td>0</td>\n",
       "      <td>0</td>\n",
       "    </tr>\n",
       "    <tr>\n",
       "      <th>1</th>\n",
       "      <td>1.000000</td>\n",
       "      <td>578</td>\n",
       "      <td>4</td>\n",
       "      <td>373</td>\n",
       "      <td>7</td>\n",
       "      <td>1</td>\n",
       "      <td>790</td>\n",
       "      <td>569</td>\n",
       "      <td>3.950953</td>\n",
       "      <td>0.196734</td>\n",
       "      <td>...</td>\n",
       "      <td>456620.000000</td>\n",
       "      <td>0.0</td>\n",
       "      <td>0.0</td>\n",
       "      <td>0.0</td>\n",
       "      <td>0.0</td>\n",
       "      <td>1826480</td>\n",
       "      <td>3196340</td>\n",
       "      <td>0</td>\n",
       "      <td>0</td>\n",
       "      <td>0</td>\n",
       "    </tr>\n",
       "    <tr>\n",
       "      <th>2</th>\n",
       "      <td>0.000000</td>\n",
       "      <td>588</td>\n",
       "      <td>2</td>\n",
       "      <td>1198</td>\n",
       "      <td>6</td>\n",
       "      <td>2</td>\n",
       "      <td>428</td>\n",
       "      <td>529</td>\n",
       "      <td>0.368702</td>\n",
       "      <td>0.157845</td>\n",
       "      <td>...</td>\n",
       "      <td>125832.000000</td>\n",
       "      <td>0.0</td>\n",
       "      <td>0.0</td>\n",
       "      <td>0.0</td>\n",
       "      <td>0.0</td>\n",
       "      <td>503328</td>\n",
       "      <td>1509984</td>\n",
       "      <td>0</td>\n",
       "      <td>0</td>\n",
       "      <td>0</td>\n",
       "    </tr>\n",
       "    <tr>\n",
       "      <th>3</th>\n",
       "      <td>0.000000</td>\n",
       "      <td>829</td>\n",
       "      <td>6</td>\n",
       "      <td>313</td>\n",
       "      <td>7</td>\n",
       "      <td>4</td>\n",
       "      <td>877</td>\n",
       "      <td>103</td>\n",
       "      <td>1.004559</td>\n",
       "      <td>0.116388</td>\n",
       "      <td>...</td>\n",
       "      <td>242344.333333</td>\n",
       "      <td>0.0</td>\n",
       "      <td>0.0</td>\n",
       "      <td>0.0</td>\n",
       "      <td>0.0</td>\n",
       "      <td>4362198</td>\n",
       "      <td>5089231</td>\n",
       "      <td>0</td>\n",
       "      <td>0</td>\n",
       "      <td>0</td>\n",
       "    </tr>\n",
       "    <tr>\n",
       "      <th>4</th>\n",
       "      <td>0.395049</td>\n",
       "      <td>167</td>\n",
       "      <td>8</td>\n",
       "      <td>644</td>\n",
       "      <td>11</td>\n",
       "      <td>2</td>\n",
       "      <td>216</td>\n",
       "      <td>418</td>\n",
       "      <td>0.802800</td>\n",
       "      <td>0.152129</td>\n",
       "      <td>...</td>\n",
       "      <td>18036.000000</td>\n",
       "      <td>83.5</td>\n",
       "      <td>4.0</td>\n",
       "      <td>5.5</td>\n",
       "      <td>108.0</td>\n",
       "      <td>288576</td>\n",
       "      <td>396792</td>\n",
       "      <td>1728</td>\n",
       "      <td>2376</td>\n",
       "      <td>2376</td>\n",
       "    </tr>\n",
       "  </tbody>\n",
       "</table>\n",
       "<p>5 rows × 33 columns</p>\n",
       "</div>"
      ],
      "text/plain": [
       "         L1  max_iter  n_classes  n_features  n_informative  n_jobs  \\\n",
       "0  0.000000       417          4         327              7      16   \n",
       "1  1.000000       578          4         373              7       1   \n",
       "2  0.000000       588          2        1198              6       2   \n",
       "3  0.000000       829          6         313              7       4   \n",
       "4  0.395049       167          8         644             11       2   \n",
       "\n",
       "   n_samples  random_state      time  l1_ratio_normmm  ...            cf29  \\\n",
       "0       1089           475  0.409987         0.066057  ...    90822.600000   \n",
       "1        790           569  3.950953         0.196734  ...   456620.000000   \n",
       "2        428           529  0.368702         0.157845  ...   125832.000000   \n",
       "3        877           103  1.004559         0.116388  ...   242344.333333   \n",
       "4        216           418  0.802800         0.152129  ...    18036.000000   \n",
       "\n",
       "   cf30  cf31  cf32   cf33     cf35     cf37  cf46  cf51  cf54  \n",
       "0   0.0   0.0   0.0    0.0  1816452  3178791     0     0     0  \n",
       "1   0.0   0.0   0.0    0.0  1826480  3196340     0     0     0  \n",
       "2   0.0   0.0   0.0    0.0   503328  1509984     0     0     0  \n",
       "3   0.0   0.0   0.0    0.0  4362198  5089231     0     0     0  \n",
       "4  83.5   4.0   5.5  108.0   288576   396792  1728  2376  2376  \n",
       "\n",
       "[5 rows x 33 columns]"
      ]
     },
     "execution_count": 151,
     "metadata": {},
     "output_type": "execute_result"
    }
   ],
   "source": [
    "dataset.head()"
   ]
  },
  {
   "cell_type": "code",
   "execution_count": 152,
   "metadata": {},
   "outputs": [
    {
     "name": "stderr",
     "output_type": "stream",
     "text": [
      "/anaconda3/lib/python3.6/site-packages/sklearn/preprocessing/data.py:323: DataConversionWarning: Data with input dtype int64, float64 were all converted to float64 by MinMaxScaler.\n",
      "  return self.partial_fit(X, y)\n"
     ]
    }
   ],
   "source": [
    "# data_scaled = preprocessing.scale(data.iloc[:,:14])\n",
    "min_max_scaler = preprocessing.MinMaxScaler()\n",
    "data_scaled_mm = min_max_scaler.fit_transform(dataset.iloc[:,:8])\n",
    "\n",
    "dataset['max_iter']=data_scaled_mm[:,1]\n",
    "dataset['n_classes']=data_scaled_mm[:,2]\n",
    "# dataset['n_clusters_per_class']=data_scaled_mm[:,3]\n",
    "dataset['n_features']=data_scaled_mm[:,3]\n",
    "dataset['n_informative']=data_scaled_mm[:,4]\n",
    "dataset['n_jobs']=data_scaled_mm[:,5]\n",
    "dataset['n_samples']=data_scaled_mm[:,6]\n",
    "dataset['penalty']=data_scaled_mm[:,7]"
   ]
  },
  {
   "cell_type": "code",
   "execution_count": 153,
   "metadata": {},
   "outputs": [
    {
     "name": "stderr",
     "output_type": "stream",
     "text": [
      "/anaconda3/lib/python3.6/site-packages/sklearn/preprocessing/data.py:323: DataConversionWarning: Data with input dtype int64, float64 were all converted to float64 by MinMaxScaler.\n",
      "  return self.partial_fit(X, y)\n"
     ]
    }
   ],
   "source": [
    "data_scaled_mm = min_max_scaler.fit_transform(dataset.iloc[:,-16:])"
   ]
  },
  {
   "cell_type": "code",
   "execution_count": 127,
   "metadata": {},
   "outputs": [],
   "source": [
    "# data_scaled_mm.shape"
   ]
  },
  {
   "cell_type": "code",
   "execution_count": 154,
   "metadata": {},
   "outputs": [],
   "source": [
    "dataset['cf8']=data_scaled_mm[:,0]\n",
    "dataset['cf22']=data_scaled_mm[:,1]\n",
    "dataset['cf23']=data_scaled_mm[:,2]\n",
    "dataset['cf24']=data_scaled_mm[:,3]\n",
    "dataset['cf26']=data_scaled_mm[:,4]\n",
    "dataset['cf28']=data_scaled_mm[:,5]\n",
    "dataset['cf29']=data_scaled_mm[:,6]\n",
    "dataset['cf30']=data_scaled_mm[:,7]\n",
    "dataset['cf31']=data_scaled_mm[:,8]\n",
    "dataset['cf32']=data_scaled_mm[:,9]\n",
    "dataset['cf33']=data_scaled_mm[:,10]\n",
    "dataset['cf35']=data_scaled_mm[:,11]\n",
    "dataset['cf37']=data_scaled_mm[:,12]\n",
    "dataset['cf46']=data_scaled_mm[:,13]\n",
    "dataset['cf51']=data_scaled_mm[:,14]\n",
    "dataset['cf54']=data_scaled_mm[:,15]"
   ]
  },
  {
   "cell_type": "code",
   "execution_count": 155,
   "metadata": {},
   "outputs": [
    {
     "data": {
      "text/plain": [
       "(540, 34)"
      ]
     },
     "execution_count": 155,
     "metadata": {},
     "output_type": "execute_result"
    }
   ],
   "source": [
    "dataset.shape"
   ]
  },
  {
   "cell_type": "code",
   "execution_count": 156,
   "metadata": {},
   "outputs": [],
   "source": [
    "dataset.drop(['random_state'],1, inplace=True)"
   ]
  },
  {
   "cell_type": "code",
   "execution_count": 157,
   "metadata": {},
   "outputs": [],
   "source": [
    "trainL = dataset['time'][:trainlen]"
   ]
  },
  {
   "cell_type": "code",
   "execution_count": 158,
   "metadata": {},
   "outputs": [],
   "source": [
    "dataset.drop(['time'],1, inplace=True)"
   ]
  },
  {
   "cell_type": "code",
   "execution_count": 159,
   "metadata": {},
   "outputs": [],
   "source": [
    "trainset = dataset.iloc[:trainlen, :]\n",
    "predset = dataset.iloc[trainlen:trainlen+predlen, :]"
   ]
  },
  {
   "cell_type": "code",
   "execution_count": 157,
   "metadata": {},
   "outputs": [
    {
     "name": "stdout",
     "output_type": "stream",
     "text": [
      "L1\n"
     ]
    },
    {
     "data": {
      "image/png": "[encoded data removed]",
      "text/plain": [
       "<Figure size 432x288 with 1 Axes>"
      ]
     },
     "metadata": {},
     "output_type": "display_data"
    },
    {
     "name": "stdout",
     "output_type": "stream",
     "text": [
      "L2\n"
     ]
    },
    {
     "data": {
      "image/png": "[encoded data removed]",
      "text/plain": [
       "<Figure size 432x288 with 1 Axes>"
      ]
     },
     "metadata": {},
     "output_type": "display_data"
    },
    {
     "name": "stdout",
     "output_type": "stream",
     "text": [
      "max_iter\n"
     ]
    },
    {
     "data": {
      "image/png": "[encoded data removed]",
      "text/plain": [
       "<Figure size 432x288 with 1 Axes>"
      ]
     },
     "metadata": {},
     "output_type": "display_data"
    },
    {
     "name": "stdout",
     "output_type": "stream",
     "text": [
      "n_classes\n"
     ]
    },
    {
     "data": {
      "image/png": "[encoded data removed]",
      "text/plain": [
       "<Figure size 432x288 with 1 Axes>"
      ]
     },
     "metadata": {},
     "output_type": "display_data"
    },
    {
     "name": "stdout",
     "output_type": "stream",
     "text": [
      "n_clusters_per_class\n"
     ]
    },
    {
     "data": {
      "image/png": "[encoded data removed]",
      "text/plain": [
       "<Figure size 432x288 with 1 Axes>"
      ]
     },
     "metadata": {},
     "output_type": "display_data"
    },
    {
     "name": "stdout",
     "output_type": "stream",
     "text": [
      "n_features\n"
     ]
    },
    {
     "data": {
      "image/png": "[encoded data removed]",
      "text/plain": [
       "<Figure size 432x288 with 1 Axes>"
      ]
     },
     "metadata": {},
     "output_type": "display_data"
    },
    {
     "name": "stdout",
     "output_type": "stream",
     "text": [
      "n_informative\n"
     ]
    },
    {
     "data": {
      "image/png": "[encoded data removed]",
      "text/plain": [
       "<Figure size 432x288 with 1 Axes>"
      ]
     },
     "metadata": {},
     "output_type": "display_data"
    },
    {
     "name": "stdout",
     "output_type": "stream",
     "text": [
      "n_jobs\n"
     ]
    },
    {
     "data": {
      "image/png": "[encoded data removed]",
      "text/plain": [
       "<Figure size 432x288 with 1 Axes>"
      ]
     },
     "metadata": {},
     "output_type": "display_data"
    },
    {
     "name": "stdout",
     "output_type": "stream",
     "text": [
      "n_samples\n"
     ]
    },
    {
     "data": {
      "image/png": "[encoded data removed]",
      "text/plain": [
       "<Figure size 432x288 with 1 Axes>"
      ]
     },
     "metadata": {},
     "output_type": "display_data"
    },
    {
     "name": "stdout",
     "output_type": "stream",
     "text": [
      "penalty\n"
     ]
    },
    {
     "data": {
      "image/png": "[encoded data removed]",
      "text/plain": [
       "<Figure size 432x288 with 1 Axes>"
      ]
     },
     "metadata": {},
     "output_type": "display_data"
    },
    {
     "name": "stdout",
     "output_type": "stream",
     "text": [
      "scale\n"
     ]
    },
    {
     "data": {
      "image/png": "[encoded data removed]",
      "text/plain": [
       "<Figure size 432x288 with 1 Axes>"
      ]
     },
     "metadata": {},
     "output_type": "display_data"
    },
    {
     "name": "stdout",
     "output_type": "stream",
     "text": [
      "flip_y_normmm\n"
     ]
    },
    {
     "data": {
      "image/png": "[encoded data removed]",
      "text/plain": [
       "<Figure size 432x288 with 1 Axes>"
      ]
     },
     "metadata": {},
     "output_type": "display_data"
    },
    {
     "name": "stdout",
     "output_type": "stream",
     "text": [
      "n_classes_normmm\n"
     ]
    },
    {
     "data": {
      "image/png": "[encoded data removed]",
      "text/plain": [
       "<Figure size 432x288 with 1 Axes>"
      ]
     },
     "metadata": {},
     "output_type": "display_data"
    },
    {
     "name": "stdout",
     "output_type": "stream",
     "text": [
      "n_clusters_per_class_normmm\n"
     ]
    },
    {
     "data": {
      "image/png": "[encoded data removed]",
      "text/plain": [
       "<Figure size 432x288 with 1 Axes>"
      ]
     },
     "metadata": {},
     "output_type": "display_data"
    },
    {
     "name": "stdout",
     "output_type": "stream",
     "text": [
      "n_informative_normmm\n"
     ]
    },
    {
     "data": {
      "image/png": "[encoded data removed]",
      "text/plain": [
       "<Figure size 432x288 with 1 Axes>"
      ]
     },
     "metadata": {},
     "output_type": "display_data"
    },
    {
     "name": "stdout",
     "output_type": "stream",
     "text": [
      "n_jobs_normmm\n"
     ]
    },
    {
     "data": {
      "image/png": "[encoded data removed]",
      "text/plain": [
       "<Figure size 432x288 with 1 Axes>"
      ]
     },
     "metadata": {},
     "output_type": "display_data"
    },
    {
     "name": "stdout",
     "output_type": "stream",
     "text": [
      "penalty_normmm\n"
     ]
    },
    {
     "data": {
      "image/png": "[encoded data removed]",
      "text/plain": [
       "<Figure size 432x288 with 1 Axes>"
      ]
     },
     "metadata": {},
     "output_type": "display_data"
    },
    {
     "name": "stdout",
     "output_type": "stream",
     "text": [
      "scale_normm\n"
     ]
    },
    {
     "data": {
      "image/png": "[encoded data removed]",
      "text/plain": [
       "<Figure size 432x288 with 1 Axes>"
      ]
     },
     "metadata": {},
     "output_type": "display_data"
    },
    {
     "name": "stdout",
     "output_type": "stream",
     "text": [
      "alpha_0.0001\n"
     ]
    },
    {
     "data": {
      "image/png": "[encoded data removed]",
      "text/plain": [
       "<Figure size 432x288 with 1 Axes>"
      ]
     },
     "metadata": {},
     "output_type": "display_data"
    },
    {
     "name": "stdout",
     "output_type": "stream",
     "text": [
      "alpha_0.001\n"
     ]
    },
    {
     "data": {
      "image/png": "[encoded data removed]",
      "text/plain": [
       "<Figure size 432x288 with 1 Axes>"
      ]
     },
     "metadata": {},
     "output_type": "display_data"
    },
    {
     "name": "stdout",
     "output_type": "stream",
     "text": [
      "alpha_0.01\n"
     ]
    },
    {
     "data": {
      "image/png": "[encoded data removed]",
      "text/plain": [
       "<Figure size 432x288 with 1 Axes>"
      ]
     },
     "metadata": {},
     "output_type": "display_data"
    },
    {
     "name": "stdout",
     "output_type": "stream",
     "text": [
      "penalty_0.0\n"
     ]
    },
    {
     "data": {
      "image/png": "[encoded data removed]",
      "text/plain": [
       "<Figure size 432x288 with 1 Axes>"
      ]
     },
     "metadata": {},
     "output_type": "display_data"
    },
    {
     "name": "stdout",
     "output_type": "stream",
     "text": [
      "penalty_0.5\n"
     ]
    },
    {
     "data": {
      "image/png": "[encoded data removed]",
      "text/plain": [
       "<Figure size 432x288 with 1 Axes>"
      ]
     },
     "metadata": {},
     "output_type": "display_data"
    },
    {
     "name": "stdout",
     "output_type": "stream",
     "text": [
      "penalty_1.0\n"
     ]
    },
    {
     "data": {
      "image/png": "[encoded data removed]",
      "text/plain": [
       "<Figure size 432x288 with 1 Axes>"
      ]
     },
     "metadata": {},
     "output_type": "display_data"
    },
    {
     "name": "stdout",
     "output_type": "stream",
     "text": [
      "cf1\n"
     ]
    },
    {
     "data": {
      "image/png": "[encoded data removed]",
      "text/plain": [
       "<Figure size 432x288 with 1 Axes>"
      ]
     },
     "metadata": {},
     "output_type": "display_data"
    },
    {
     "name": "stdout",
     "output_type": "stream",
     "text": [
      "cf2\n"
     ]
    },
    {
     "data": {
      "image/png": "[encoded data removed]",
      "text/plain": [
       "<Figure size 432x288 with 1 Axes>"
      ]
     },
     "metadata": {},
     "output_type": "display_data"
    },
    {
     "name": "stdout",
     "output_type": "stream",
     "text": [
      "cf4\n"
     ]
    },
    {
     "data": {
      "image/png": "[encoded data removed]",
      "text/plain": [
       "<Figure size 432x288 with 1 Axes>"
      ]
     },
     "metadata": {},
     "output_type": "display_data"
    },
    {
     "name": "stdout",
     "output_type": "stream",
     "text": [
      "cf5\n"
     ]
    },
    {
     "data": {
      "image/png": "[encoded data removed]",
      "text/plain": [
       "<Figure size 432x288 with 1 Axes>"
      ]
     },
     "metadata": {},
     "output_type": "display_data"
    },
    {
     "name": "stdout",
     "output_type": "stream",
     "text": [
      "cf3\n"
     ]
    },
    {
     "data": {
      "image/png": "[encoded data removed]",
      "text/plain": [
       "<Figure size 432x288 with 1 Axes>"
      ]
     },
     "metadata": {},
     "output_type": "display_data"
    }
   ],
   "source": [
    "from matplotlib import pyplot as plt\n",
    "\n",
    "for f in dataset.columns.values:\n",
    "    print(f)\n",
    "    X = dataset[f].values[:trainlen]\n",
    "    y = trainL\n",
    "    plt.scatter(X,y)\n",
    "#     plt.savefig(f+\"_norm + mm_scal\"+\".jpg\")\n",
    "    plt.show()"
   ]
  },
  {
   "cell_type": "code",
   "execution_count": 76,
   "metadata": {},
   "outputs": [
    {
     "data": {
      "text/plain": [
       "array(['L1', 'max_iter', 'n_classes', 'n_features', 'n_informative',\n",
       "       'n_jobs', 'n_samples', 'l1_ratio_normmm', 'n_informative_normmm',\n",
       "       'n_jobs_normmm', 'scale_normm', 'penalty_0', 'penalty_1',\n",
       "       'penalty_2', 'penalty_3', 'cf8', 'cf22', 'cf23', 'cf24', 'cf26',\n",
       "       'cf28', 'cf29', 'cf30', 'cf31', 'cf32', 'cf33', 'cf35', 'cf37',\n",
       "       'cf46', 'cf51', 'cf54', 'time'], dtype=object)"
      ]
     },
     "execution_count": 76,
     "metadata": {},
     "output_type": "execute_result"
    }
   ],
   "source": [
    "train.columns.values"
   ]
  },
  {
   "cell_type": "code",
   "execution_count": 160,
   "metadata": {},
   "outputs": [],
   "source": [
    "train = pd.concat([trainset, trainL], axis=1)\n",
    "train.to_csv(\"train_31_1122.csv\",index=False,sep=',')\n",
    "predset.to_csv(\"pred_31_1122.csv\",index=False,sep=',')"
   ]
  },
  {
   "cell_type": "code",
   "execution_count": 161,
   "metadata": {},
   "outputs": [],
   "source": [
    "train = pd.read_csv(\"train_31_1114520.csv\")\n",
    "predset = pd.read_csv(\"pred_31_1114520.csv\")"
   ]
  },
  {
   "cell_type": "code",
   "execution_count": 163,
   "metadata": {},
   "outputs": [],
   "source": [
    "# train.columns.values"
   ]
  },
  {
   "cell_type": "markdown",
   "metadata": {},
   "source": [
    "#前方高能预警"
   ]
  },
  {
   "cell_type": "code",
   "execution_count": null,
   "metadata": {},
   "outputs": [],
   "source": [
    "tuningset = pd.read_csv('drive/5001/1114_05_mean.csv')\n",
    "tuningset = pd.concat([predset, tuningset['time']],axis=1)\n",
    "trainset = pd.concat([trainset, tuningset],axis=0)"
   ]
  },
  {
   "cell_type": "code",
   "execution_count": null,
   "metadata": {},
   "outputs": [],
   "source": [
    "predictions=[]\n",
    "for i in range(20):\n",
    "    test_size = 0.2\n",
    "    X_train, X_test, y_train, y_test = train_test_split(trainset, trainL, test_size=test_size, random_state=i)  #np.random.randint(10)\n",
    "\n",
    "    model = Sequential()\n",
    "    model.add(Dense(1000,input_dim=X_train.shape[1],activation=\"relu\",name=\"full_1\",kernel_initializer='random_uniform'))\n",
    "    model.add(Dense(1000,activation=\"relu\",name=\"full_2\"))\n",
    "    model.add(Dense(2000,activation=\"relu\",name=\"full_3\"))\n",
    "    model.add(Dense(3000,activation=\"relu\",name=\"full_4\"))\n",
    "    model.add(Dense(4000,activation=\"relu\",name=\"full_5\"))\n",
    "\n",
    "    model.add(Dropout(0.5))\n",
    "    model.add(Dense(1, activation=\"linear\", use_bias=True, bias_initializer='zeros', bias_regularizer='l1_l2', bias_constraint=non_neg()))  #use_bias=True, bias_regularizer='l1_l2'\n",
    "    # model.summary()\n",
    "\n",
    "    model.compile(loss='mean_squared_error', optimizer='adam')   #adam\n",
    "    model_fit = model.fit(X_train, y_train, batch_size=100, epochs=1200, verbose=0) \n",
    "\n",
    "    #   score = model.evaluate(x_test, y_test, batch_size=16)\n",
    "    y_pred = model.predict(X_test)\n",
    "\n",
    "    MSE = mean_squared_error(y_test, y_pred)\n",
    "    loss = model_fit.history[\"loss\"][-1]\n",
    "    # val_loss = model_fit.history[\"val_loss\"][-1]\n",
    "    print(MSE,loss)\n",
    "\n",
    "    predictions.append(model.predict(predset))"
   ]
  },
  {
   "cell_type": "code",
   "execution_count": null,
   "metadata": {},
   "outputs": [],
   "source": [
    "res = predictions"
   ]
  },
  {
   "cell_type": "code",
   "execution_count": 393,
   "metadata": {},
   "outputs": [],
   "source": [
    "# res = pd.read_csv('1118_04_mean.csv')\n",
    "\n",
    "import csv\n",
    "\n",
    "with open(\"submission.csv\", \"w\") as csvfile:\n",
    "    writer = csv.writer(csvfile)\n",
    "    writer.writerow(['Id'] + ['time'])\n",
    "    i = 0\n",
    "    count = 0\n",
    "    for x in res.mean().values:\n",
    "        if x < 0:\n",
    "            count += 1\n",
    "        else:\n",
    "            writer.writerow([i] + [x])\n",
    "        i += 1\n",
    "\n",
    "print('num of < : ', count)"
   ]
  },
  {
   "cell_type": "code",
   "execution_count": null,
   "metadata": {},
   "outputs": [],
   "source": []
  },
  {
   "cell_type": "code",
   "execution_count": null,
   "metadata": {},
   "outputs": [],
   "source": []
  },
  {
   "cell_type": "code",
   "execution_count": 75,
   "metadata": {},
   "outputs": [],
   "source": [
    "# train = pd.read_csv(\"train_31_1114520.csv\")\n",
    "# predset = pd.read_csv(\"pred_31_1114520.csv\")\n",
    "\n",
    "# train = train.iloc[:trainlen, :]\n",
    "# trainset = train.values[:,:-1]\n",
    "# trainL = train.values[:,-1]"
   ]
  },
  {
   "cell_type": "code",
   "execution_count": 1,
   "metadata": {},
   "outputs": [],
   "source": [
    "# from sklearn.linear_model import LinearRegression\n",
    "\n",
    "# lr = LinearRegression()\n",
    "\n",
    "# lr.fit(trainset, trainL)\n",
    "\n",
    "# prediction = cross_val_predict(lr, trainset, trainL, cv=10)\n",
    "# print(\"使用交叉验证的均方误差为:\",mean_squared_error(trainL, prediction))\n",
    "\n",
    "# submit = lr.predict(predset)\n",
    "\n",
    "# import csv\n",
    "\n",
    "# with open(\"submission\", \"w\") as csvfile:\n",
    "#     writer = csv.writer(csvfile)\n",
    "#     writer.writerow(['Id'] + ['time'])\n",
    "#     i = 0\n",
    "#     count = 0\n",
    "#     for x in range(len(submit)):\n",
    "#         if submit[x] < 0:\n",
    "#             count += 1\n",
    "#             if submit[x]<-1:\n",
    "#                 writer.writerow([i] + [0])\n",
    "#             else:\n",
    "#                 writer.writerow([i] + [(1+submit[x])])\n",
    "#         else:\n",
    "#             writer.writerow([i] + [submit[x]])\n",
    "#         i += 1\n",
    "\n",
    "# print('num of < : ', count)"
   ]
  },
  {
   "cell_type": "code",
   "execution_count": 371,
   "metadata": {},
   "outputs": [],
   "source": [
    "# from sklearn.ensemble import GradientBoostingRegressor\n",
    "# from sklearn.model_selection import cross_val_predict\n",
    "# model =GradientBoostingRegressor()\n",
    "\n",
    "# #Fit the algorithm on the training set\n",
    "# model.fit(trainset, trainL)\n",
    "# scores = cross_val_score(model, trainset, trainL.ravel(), cv=10)\n",
    "# print(\" Accuracy: %0.4f (+/- %0.4f)\" % (scores.mean(), scores.std() * 2))\n",
    "# prediction = cross_val_predict(model, trainset, trainL, cv=10)\n",
    "\n",
    "# print(\"使用交叉验证的均方误差为:\",mean_squared_error(trainL, prediction))\n",
    "\n",
    "# model.feature_importances_"
   ]
  },
  {
   "cell_type": "code",
   "execution_count": 143,
   "metadata": {},
   "outputs": [],
   "source": [
    "# from sklearn.ensemble import RandomForestRegressor\n",
    "# regr = RandomForestRegressor(max_depth=8, random_state=0, n_estimators=100)\n",
    "\n",
    "# prediction = cross_val_predict(regr, trainset, trainL, cv=10)\n",
    "\n",
    "# print(\"使用交叉验证的均方误差为:\",mean_squared_error(trainL, prediction))\n",
    "# print(f\"较小数和较大数的均方误差为:{(s_num_err/s_num):.3f} in {s_num} {(b_num_err/b_num):.3f} in {b_num}\")\n",
    "# print('count = ', count, 'of', len(prediction))\n",
    "# # regr.feature_importances_\n",
    "\n",
    "\n",
    "\n",
    "# from sklearn.metrics import r2_score\n",
    "# r2_score(y_train, model.predict(X_train))"
   ]
  },
  {
   "cell_type": "code",
   "execution_count": null,
   "metadata": {},
   "outputs": [],
   "source": []
  }
 ],
 "metadata": {
  "kernelspec": {
   "display_name": "Python 3",
   "language": "python",
   "name": "python3"
  },
  "language_info": {
   "codemirror_mode": {
    "name": "ipython",
    "version": 3
   },
   "file_extension": ".py",
   "mimetype": "text/x-python",
   "name": "python",
   "nbconvert_exporter": "python",
   "pygments_lexer": "ipython3",
   "version": "3.6.5"
  }
 },
 "nbformat": 4,
 "nbformat_minor": 2
}
